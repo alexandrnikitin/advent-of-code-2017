{
 "cells": [
  {
   "cell_type": "markdown",
   "metadata": {},
   "source": [
    "### Part 1"
   ]
  },
  {
   "cell_type": "code",
   "execution_count": 31,
   "metadata": {},
   "outputs": [
    {
     "data": {
      "text/plain": [
       "42299"
      ]
     },
     "execution_count": 31,
     "metadata": {},
     "output_type": "execute_result"
    }
   ],
   "source": [
    "import pandas as pd\n",
    "\n",
    "data = pd.read_csv('day2-input.tsv',sep='\\t',header=None)\n",
    "data['diff'] = data.max(axis=1) - data.min(axis=1)\n",
    "data['diff'].sum()"
   ]
  },
  {
   "cell_type": "markdown",
   "metadata": {},
   "source": [
    "#### Using Dask"
   ]
  },
  {
   "cell_type": "code",
   "execution_count": 43,
   "metadata": {},
   "outputs": [
    {
     "data": {
      "text/plain": [
       "42299"
      ]
     },
     "execution_count": 43,
     "metadata": {},
     "output_type": "execute_result"
    }
   ],
   "source": [
    "from dask.distributed import Client, LocalCluster\n",
    "import dask.dataframe as dd\n",
    "\n",
    "cluster = LocalCluster(processes=False)\n",
    "client = Client(cluster)\n",
    "data = dd.read_csv('day2-input.tsv',sep='\\t',header=None)\n",
    "data['diff'] = data.max(axis=1) - data.min(axis=1)\n",
    "data['diff'].sum().compute()"
   ]
  },
  {
   "cell_type": "markdown",
   "metadata": {},
   "source": [
    "### Part 2"
   ]
  },
  {
   "cell_type": "code",
   "execution_count": 30,
   "metadata": {},
   "outputs": [
    {
     "name": "stdout",
     "output_type": "stream",
     "text": [
      "277.0\n"
     ]
    }
   ],
   "source": [
    "import itertools\n",
    "\n",
    "s = 0\n",
    "with open('day2-input.tsv') as f:\n",
    "    for l in f:\n",
    "        vs = l.rstrip().split(\"\\t\")\n",
    "        for p in itertools.permutations(vs, 2):\n",
    "            x = int(p[0])\n",
    "            y = int(p[1])\n",
    "            if x % y == 0:\n",
    "                s += x / y\n",
    "\n",
    "print(s)\n",
    "            "
   ]
  }
 ],
 "metadata": {
  "kernelspec": {
   "display_name": "Python 3",
   "language": "python",
   "name": "python3"
  },
  "language_info": {
   "codemirror_mode": {
    "name": "ipython",
    "version": 3
   },
   "file_extension": ".py",
   "mimetype": "text/x-python",
   "name": "python",
   "nbconvert_exporter": "python",
   "pygments_lexer": "ipython3",
   "version": "3.6.3"
  }
 },
 "nbformat": 4,
 "nbformat_minor": 2
}
