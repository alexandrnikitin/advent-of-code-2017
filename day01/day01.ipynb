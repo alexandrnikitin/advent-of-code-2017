{
 "cells": [
  {
   "cell_type": "code",
   "execution_count": 95,
   "metadata": {},
   "outputs": [],
   "source": [
    "def sum(s):\n",
    "    sum = 0\n",
    "    for i, c in enumerate(s):\n",
    "        next = i+1 if i+1 < len(s) else 0\n",
    "        if c == s[next]:\n",
    "            sum += int(c)\n",
    "    return sum"
   ]
  },
  {
   "cell_type": "code",
   "execution_count": 96,
   "metadata": {},
   "outputs": [],
   "source": [
    "assert sum('1122') == 3\n",
    "assert sum('1111') == 4\n",
    "assert sum('11111') == 5\n",
    "assert sum('1234') == 0\n",
    "assert sum('91212129') == 9"
   ]
  },
  {
   "cell_type": "code",
   "execution_count": 97,
   "metadata": {},
   "outputs": [
    {
     "data": {
      "text/plain": [
       "1097"
      ]
     },
     "execution_count": 97,
     "metadata": {},
     "output_type": "execute_result"
    }
   ],
   "source": [
    "with open(\"input.txt\") as f:\n",
    "    for line in f:\n",
    "        input = line\n",
    "\n",
    "sum(input)"
   ]
  },
  {
   "cell_type": "code",
   "execution_count": 98,
   "metadata": {},
   "outputs": [],
   "source": [
    "def sum2(s):\n",
    "    sum = 0\n",
    "    step = int(len(s)/2)\n",
    "    for i, c in enumerate(s):\n",
    "        if i+step < len(s):\n",
    "            next = i+step \n",
    "        else:\n",
    "            next = step - (len(s) - i)\n",
    "        if c == s[next]:\n",
    "            sum += int(c)\n",
    "    return sum"
   ]
  },
  {
   "cell_type": "code",
   "execution_count": 99,
   "metadata": {},
   "outputs": [],
   "source": [
    "assert sum2('1212') == 6\n",
    "assert sum2('1221') == 0\n",
    "assert sum2('123425') == 4\n",
    "assert sum2('123123') == 12\n",
    "assert sum2('12131415') == 4"
   ]
  },
  {
   "cell_type": "code",
   "execution_count": 100,
   "metadata": {},
   "outputs": [
    {
     "data": {
      "text/plain": [
       "1188"
      ]
     },
     "execution_count": 100,
     "metadata": {},
     "output_type": "execute_result"
    }
   ],
   "source": [
    "sum2(input)"
   ]
  }
 ],
 "metadata": {
  "kernelspec": {
   "display_name": "Python 3",
   "language": "python",
   "name": "python3"
  },
  "language_info": {
   "codemirror_mode": {
    "name": "ipython",
    "version": 3
   },
   "file_extension": ".py",
   "mimetype": "text/x-python",
   "name": "python",
   "nbconvert_exporter": "python",
   "pygments_lexer": "ipython3",
   "version": "3.6.3"
  }
 },
 "nbformat": 4,
 "nbformat_minor": 2
}
